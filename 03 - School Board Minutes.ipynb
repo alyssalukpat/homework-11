{
 "cells": [
  {
   "cell_type": "markdown",
   "metadata": {},
   "source": [
    "# School Board Minutes\n",
    "\n",
    "Scrape all of the school board minutes from http://www.mineral.k12.nv.us/pages/School_Board_Minutes\n",
    "\n",
    "Save a CSV called `minutes.csv` with the date and the URL to the file. The date should be formatted as YYYY-MM-DD.\n",
    "\n",
    "**Bonus:** Download the PDF files\n",
    "\n",
    "**Bonus 2:** Use [PDF OCR X](https://solutions.weblite.ca/pdfocrx/index.php) on one of the PDF files and see if it can be converted into text successfully.\n",
    "\n",
    "* **Hint:** If you're just looking for links, there are a lot of other links on that page! Can you look at the link to know whether it links or minutes or not? You'll want to use an \"if\" statement.\n",
    "* **Hint:** You could also filter out bad links later on using pandas instead of when scraping\n",
    "* **Hint:** If you get a weird error that you can't really figure out, you can always tell Python to just ignore it using `try` and `except`, like below. Python will try to do the stuff inside of 'try', but if it hits an error it will skip right out.\n",
    "* **Hint:** Remember the codes at http://strftime.org\n",
    "* **Hint:** If you have a date that you've parsed, you can use `.dt.strftime` to turn it into a specially-formatted string. You use the same codes (like %B etc) that you use for converting strings into dates.\n",
    "\n",
    "```python\n",
    "try:\n",
    "  blah blah your code\n",
    "  your code\n",
    "  your code\n",
    "except:\n",
    "  pass\n",
    "```\n",
    "\n",
    "* **Hint:** You can use `.apply` to download each pdf, or you can use one of a thousand other ways. It'd be good `.apply` practice though!"
   ]
  },
  {
   "cell_type": "code",
   "execution_count": 1,
   "metadata": {},
   "outputs": [
    {
     "name": "stderr",
     "output_type": "stream",
     "text": [
      "/Users/ALukpat/.pyenv/versions/3.7.1/lib/python3.7/site-packages/pandas/compat/__init__.py:120: UserWarning: Could not import the lzma module. Your installed Python is incomplete. Attempting to use lzma compression will result in a RuntimeError.\n",
      "  warnings.warn(msg)\n"
     ]
    }
   ],
   "source": [
    "import requests\n",
    "import pandas as pd\n",
    "from selenium import webdriver\n",
    "driver = webdriver.Chrome()\n",
    "driver.get(\"http://www.mineral.k12.nv.us/pages/School_Board_Minutes\")"
   ]
  },
  {
   "cell_type": "code",
   "execution_count": 5,
   "metadata": {},
   "outputs": [],
   "source": [
    "page = driver.find_element_by_id('livesite-page-content-left')"
   ]
  },
  {
   "cell_type": "code",
   "execution_count": 39,
   "metadata": {},
   "outputs": [],
   "source": [
    "minute_page2 = page.find_elements_by_tag_name('p')[4:-1]\n"
   ]
  },
  {
   "cell_type": "code",
   "execution_count": 64,
   "metadata": {},
   "outputs": [],
   "source": [
    "mins = []\n",
    "for item in minute_page2:\n",
    "    date = item.text.strip()\n",
    "#     print(date)\n",
    "    try:\n",
    "        url = item.find_element_by_tag_name('a').get_attribute('href')\n",
    "        mins.append({\n",
    "            'date': date,\n",
    "            'url': url\n",
    "        })\n",
    "    except:\n",
    "        pass"
   ]
  },
  {
   "cell_type": "code",
   "execution_count": 66,
   "metadata": {},
   "outputs": [],
   "source": [
    "df = pd.DataFrame(mins)"
   ]
  },
  {
   "cell_type": "code",
   "execution_count": 68,
   "metadata": {},
   "outputs": [
    {
     "data": {
      "text/html": [
       "<div>\n",
       "<style scoped>\n",
       "    .dataframe tbody tr th:only-of-type {\n",
       "        vertical-align: middle;\n",
       "    }\n",
       "\n",
       "    .dataframe tbody tr th {\n",
       "        vertical-align: top;\n",
       "    }\n",
       "\n",
       "    .dataframe thead th {\n",
       "        text-align: right;\n",
       "    }\n",
       "</style>\n",
       "<table border=\"1\" class=\"dataframe\">\n",
       "  <thead>\n",
       "    <tr style=\"text-align: right;\">\n",
       "      <th></th>\n",
       "      <th>date</th>\n",
       "      <th>url</th>\n",
       "    </tr>\n",
       "  </thead>\n",
       "  <tbody>\n",
       "    <tr>\n",
       "      <th>0</th>\n",
       "      <td>September 1, 2020</td>\n",
       "      <td>http://www.mineral.k12.nv.us/files/9.1.20_minu...</td>\n",
       "    </tr>\n",
       "    <tr>\n",
       "      <th>1</th>\n",
       "      <td>August 11, 2020</td>\n",
       "      <td>http://www.mineral.k12.nv.us/files/8.11.20_min...</td>\n",
       "    </tr>\n",
       "    <tr>\n",
       "      <th>2</th>\n",
       "      <td>July 28, 2020</td>\n",
       "      <td>http://www.mineral.k12.nv.us/files/7.28.20_min...</td>\n",
       "    </tr>\n",
       "    <tr>\n",
       "      <th>3</th>\n",
       "      <td>July 14, 2020</td>\n",
       "      <td>http://www.mineral.k12.nv.us/files/7.14.20_min...</td>\n",
       "    </tr>\n",
       "    <tr>\n",
       "      <th>4</th>\n",
       "      <td>June 16, 2020</td>\n",
       "      <td>http://www.mineral.k12.nv.us/files/6.16.20_min...</td>\n",
       "    </tr>\n",
       "  </tbody>\n",
       "</table>\n",
       "</div>"
      ],
      "text/plain": [
       "                date                                                url\n",
       "0  September 1, 2020  http://www.mineral.k12.nv.us/files/9.1.20_minu...\n",
       "1    August 11, 2020  http://www.mineral.k12.nv.us/files/8.11.20_min...\n",
       "2      July 28, 2020  http://www.mineral.k12.nv.us/files/7.28.20_min...\n",
       "3      July 14, 2020  http://www.mineral.k12.nv.us/files/7.14.20_min...\n",
       "4      June 16, 2020  http://www.mineral.k12.nv.us/files/6.16.20_min..."
      ]
     },
     "execution_count": 68,
     "metadata": {},
     "output_type": "execute_result"
    }
   ],
   "source": [
    "df.head()"
   ]
  },
  {
   "cell_type": "code",
   "execution_count": 75,
   "metadata": {},
   "outputs": [],
   "source": [
    "df['date'] = df['date'].astype('string')"
   ]
  },
  {
   "cell_type": "code",
   "execution_count": 78,
   "metadata": {},
   "outputs": [],
   "source": [
    "import datetime as dt"
   ]
  },
  {
   "cell_type": "code",
   "execution_count": 85,
   "metadata": {},
   "outputs": [],
   "source": [
    "df['the_date'] = pd.to_datetime(df.date, format='%B %d, %Y').dt.strftime(\"%Y-%m-%d\")"
   ]
  },
  {
   "cell_type": "code",
   "execution_count": 90,
   "metadata": {},
   "outputs": [
    {
     "data": {
      "text/html": [
       "<div>\n",
       "<style scoped>\n",
       "    .dataframe tbody tr th:only-of-type {\n",
       "        vertical-align: middle;\n",
       "    }\n",
       "\n",
       "    .dataframe tbody tr th {\n",
       "        vertical-align: top;\n",
       "    }\n",
       "\n",
       "    .dataframe thead th {\n",
       "        text-align: right;\n",
       "    }\n",
       "</style>\n",
       "<table border=\"1\" class=\"dataframe\">\n",
       "  <thead>\n",
       "    <tr style=\"text-align: right;\">\n",
       "      <th></th>\n",
       "      <th>date</th>\n",
       "      <th>url</th>\n",
       "      <th>the_date</th>\n",
       "    </tr>\n",
       "  </thead>\n",
       "  <tbody>\n",
       "    <tr>\n",
       "      <th>0</th>\n",
       "      <td>September 1, 2020</td>\n",
       "      <td>http://www.mineral.k12.nv.us/files/9.1.20_minu...</td>\n",
       "      <td>2020-09-01</td>\n",
       "    </tr>\n",
       "    <tr>\n",
       "      <th>1</th>\n",
       "      <td>August 11, 2020</td>\n",
       "      <td>http://www.mineral.k12.nv.us/files/8.11.20_min...</td>\n",
       "      <td>2020-08-11</td>\n",
       "    </tr>\n",
       "    <tr>\n",
       "      <th>2</th>\n",
       "      <td>July 28, 2020</td>\n",
       "      <td>http://www.mineral.k12.nv.us/files/7.28.20_min...</td>\n",
       "      <td>2020-07-28</td>\n",
       "    </tr>\n",
       "    <tr>\n",
       "      <th>3</th>\n",
       "      <td>July 14, 2020</td>\n",
       "      <td>http://www.mineral.k12.nv.us/files/7.14.20_min...</td>\n",
       "      <td>2020-07-14</td>\n",
       "    </tr>\n",
       "    <tr>\n",
       "      <th>4</th>\n",
       "      <td>June 16, 2020</td>\n",
       "      <td>http://www.mineral.k12.nv.us/files/6.16.20_min...</td>\n",
       "      <td>2020-06-16</td>\n",
       "    </tr>\n",
       "  </tbody>\n",
       "</table>\n",
       "</div>"
      ],
      "text/plain": [
       "                date                                                url  \\\n",
       "0  September 1, 2020  http://www.mineral.k12.nv.us/files/9.1.20_minu...   \n",
       "1    August 11, 2020  http://www.mineral.k12.nv.us/files/8.11.20_min...   \n",
       "2      July 28, 2020  http://www.mineral.k12.nv.us/files/7.28.20_min...   \n",
       "3      July 14, 2020  http://www.mineral.k12.nv.us/files/7.14.20_min...   \n",
       "4      June 16, 2020  http://www.mineral.k12.nv.us/files/6.16.20_min...   \n",
       "\n",
       "     the_date  \n",
       "0  2020-09-01  \n",
       "1  2020-08-11  \n",
       "2  2020-07-28  \n",
       "3  2020-07-14  \n",
       "4  2020-06-16  "
      ]
     },
     "execution_count": 90,
     "metadata": {},
     "output_type": "execute_result"
    }
   ],
   "source": [
    "df.head()"
   ]
  },
  {
   "cell_type": "code",
   "execution_count": 91,
   "metadata": {},
   "outputs": [],
   "source": [
    "del df['date']"
   ]
  },
  {
   "cell_type": "code",
   "execution_count": 92,
   "metadata": {},
   "outputs": [
    {
     "data": {
      "text/html": [
       "<div>\n",
       "<style scoped>\n",
       "    .dataframe tbody tr th:only-of-type {\n",
       "        vertical-align: middle;\n",
       "    }\n",
       "\n",
       "    .dataframe tbody tr th {\n",
       "        vertical-align: top;\n",
       "    }\n",
       "\n",
       "    .dataframe thead th {\n",
       "        text-align: right;\n",
       "    }\n",
       "</style>\n",
       "<table border=\"1\" class=\"dataframe\">\n",
       "  <thead>\n",
       "    <tr style=\"text-align: right;\">\n",
       "      <th></th>\n",
       "      <th>url</th>\n",
       "      <th>the_date</th>\n",
       "    </tr>\n",
       "  </thead>\n",
       "  <tbody>\n",
       "    <tr>\n",
       "      <th>0</th>\n",
       "      <td>http://www.mineral.k12.nv.us/files/9.1.20_minu...</td>\n",
       "      <td>2020-09-01</td>\n",
       "    </tr>\n",
       "    <tr>\n",
       "      <th>1</th>\n",
       "      <td>http://www.mineral.k12.nv.us/files/8.11.20_min...</td>\n",
       "      <td>2020-08-11</td>\n",
       "    </tr>\n",
       "    <tr>\n",
       "      <th>2</th>\n",
       "      <td>http://www.mineral.k12.nv.us/files/7.28.20_min...</td>\n",
       "      <td>2020-07-28</td>\n",
       "    </tr>\n",
       "    <tr>\n",
       "      <th>3</th>\n",
       "      <td>http://www.mineral.k12.nv.us/files/7.14.20_min...</td>\n",
       "      <td>2020-07-14</td>\n",
       "    </tr>\n",
       "    <tr>\n",
       "      <th>4</th>\n",
       "      <td>http://www.mineral.k12.nv.us/files/6.16.20_min...</td>\n",
       "      <td>2020-06-16</td>\n",
       "    </tr>\n",
       "  </tbody>\n",
       "</table>\n",
       "</div>"
      ],
      "text/plain": [
       "                                                 url    the_date\n",
       "0  http://www.mineral.k12.nv.us/files/9.1.20_minu...  2020-09-01\n",
       "1  http://www.mineral.k12.nv.us/files/8.11.20_min...  2020-08-11\n",
       "2  http://www.mineral.k12.nv.us/files/7.28.20_min...  2020-07-28\n",
       "3  http://www.mineral.k12.nv.us/files/7.14.20_min...  2020-07-14\n",
       "4  http://www.mineral.k12.nv.us/files/6.16.20_min...  2020-06-16"
      ]
     },
     "execution_count": 92,
     "metadata": {},
     "output_type": "execute_result"
    }
   ],
   "source": [
    "df.head()"
   ]
  },
  {
   "cell_type": "code",
   "execution_count": 107,
   "metadata": {},
   "outputs": [],
   "source": [
    "df.to_csv('minutes.csv', index=False)"
   ]
  },
  {
   "cell_type": "markdown",
   "metadata": {},
   "source": [
    "### Getting pdfs"
   ]
  },
  {
   "cell_type": "code",
   "execution_count": 99,
   "metadata": {},
   "outputs": [],
   "source": [
    "# row is not defined. we are creating it now\n",
    "def scrape_pdf(df):\n",
    "    print(df['url'])\n",
    "    print('--')"
   ]
  },
  {
   "cell_type": "code",
   "execution_count": 100,
   "metadata": {},
   "outputs": [
    {
     "name": "stdout",
     "output_type": "stream",
     "text": [
      "http://www.mineral.k12.nv.us/files/9.1.20_minutes.pdf\n",
      "--\n",
      "http://www.mineral.k12.nv.us/files/8.11.20_minutes.pdf\n",
      "--\n",
      "http://www.mineral.k12.nv.us/files/7.28.20_minutes.pdf\n",
      "--\n",
      "http://www.mineral.k12.nv.us/files/7.14.20_minutes.pdf\n",
      "--\n",
      "http://www.mineral.k12.nv.us/files/6.16.20_minutes.pdf\n",
      "--\n",
      "http://www.mineral.k12.nv.us/files/5.20.20_minutes.pdf\n",
      "--\n",
      "http://www.mineral.k12.nv.us/files/4.7.20_minutes.pdf\n",
      "--\n",
      "http://www.mineral.k12.nv.us/files/3.12.20_minutes.pdf\n",
      "--\n",
      "http://www.mineral.k12.nv.us/files/3.5.20_minutes.pdf\n",
      "--\n",
      "http://www.mineral.k12.nv.us/files/2.21.20_minutes.pdf\n",
      "--\n",
      "http://www.mineral.k12.nv.us/files/2-4-20_minutes.pdf\n",
      "--\n",
      "http://www.mineral.k12.nv.us/files/1.21.20.pdf\n",
      "--\n",
      "http://www.mineral.k12.nv.us/files/1.7.20_pdf.pdf\n",
      "--\n",
      "http://www.mineral.k12.nv.us/files/12.16.19_minutes.pdf\n",
      "--\n",
      "http://www.mineral.k12.nv.us/files/12.3.19_minutes.pdf\n",
      "--\n",
      "http://www.mineral.k12.nv.us/files/11.19.19_minutes.pdf\n",
      "--\n",
      "http://www.mineral.k12.nv.us/files/11.5.19_minutes.pdf\n",
      "--\n",
      "http://www.mineral.k12.nv.us/files/10.15.19_minutes.pdf\n",
      "--\n",
      "http://www.mineral.k12.nv.us/files/9.17.19_minutes.pdf\n",
      "--\n",
      "http://www.mineral.k12.nv.us/files/9.3.19_minutes.pdf\n",
      "--\n",
      "http://www.mineral.k12.nv.us/files/doc04504220191028190253.pdf\n",
      "--\n",
      "http://www.mineral.k12.nv.us/files/8.10.19_minutes.pdf\n",
      "--\n",
      "http://www.mineral.k12.nv.us/files/8.6.19_minutes.pdf\n",
      "--\n",
      "http://www.mineral.k12.nv.us/files/7.16.19_minutes.pdf\n",
      "--\n",
      "http://www.mineral.k12.nv.us/files/6.18.19_minutes.pdf\n",
      "--\n",
      "http://www.mineral.k12.nv.us/files/6.4.19_minutes.pdf\n",
      "--\n",
      "http://www.mineral.k12.nv.us/files/5.28.19_minutes.pdf\n",
      "--\n",
      "http://www.mineral.k12.nv.us/files/5.7.19_minutes.pdf\n",
      "--\n",
      "http://www.mineral.k12.nv.us/files/4.23.19_minutes.pdf\n",
      "--\n",
      "http://www.mineral.k12.nv.us/files/4.8.19_minutes.pdf\n",
      "--\n",
      "http://www.mineral.k12.nv.us/files/3.5.19_minutes.pdf\n",
      "--\n",
      "http://www.mineral.k12.nv.us/files/3.5.19.pdf\n",
      "--\n",
      "http://www.mineral.k12.nv.us/files/2.26.19_minutes.pdf\n",
      "--\n",
      "http://www.mineral.k12.nv.us/files/2.5.19_minutes.pdf\n",
      "--\n",
      "http://www.mineral.k12.nv.us/files/January_22_minutes.pdf\n",
      "--\n",
      "http://www.mineral.k12.nv.us/files/January_8_minutes.pdf\n",
      "--\n",
      "http://www.mineral.k12.nv.us/files/12.20.18_minutes.pdf\n",
      "--\n",
      "http://www.mineral.k12.nv.us/files/12.4.18_minutes.pdf\n",
      "--\n",
      "http://www.mineral.k12.nv.us/files/11.20.18.pdf\n",
      "--\n",
      "http://www.mineral.k12.nv.us/files/9.25.18_minutes.pdf\n",
      "--\n",
      "http://www.mineral.k12.nv.us/files/9.13.18_minutes.pdf\n",
      "--\n",
      "http://www.mineral.k12.nv.us/files/9.4.18.pdf\n",
      "--\n",
      "http://www.mineral.k12.nv.us/files/8.21.18_minutes.pdf\n",
      "--\n",
      "http://www.mineral.k12.nv.us/files/8.7.18_minutes.pdf\n",
      "--\n",
      "http://www.mineral.k12.nv.us/files/7.24.18_minutes.pdf\n",
      "--\n",
      "http://www.mineral.k12.nv.us/files/7.10.18_minutes.pdf\n",
      "--\n",
      "http://www.mineral.k12.nv.us/files/6.28.18.pdf\n",
      "--\n",
      "http://www.mineral.k12.nv.us/files/6.22.18_minutes.pdf\n",
      "--\n",
      "http://www.mineral.k12.nv.us/files/6.21.18.pdf\n",
      "--\n",
      "http://www.mineral.k12.nv.us/files/6.19.18_minutes.pdf\n",
      "--\n",
      "http://www.mineral.k12.nv.us/files/5.29.18_minutes.pdf\n",
      "--\n",
      "http://www.mineral.k12.nv.us/files/4.17.18.pdf\n",
      "--\n",
      "http://www.mineral.k12.nv.us/files/april_2,_2018_minutes.pdf\n",
      "--\n",
      "http://www.mineral.k12.nv.us/files/3.8.18.pdf\n",
      "--\n",
      "http://www.mineral.k12.nv.us/files/march_6,_2018_minutes.pdf\n",
      "--\n",
      "http://www.mineral.k12.nv.us/files/feb_20,_2108_minutes.pdf\n",
      "--\n",
      "http://www.mineral.k12.nv.us/files/2.6.18_minutes.pdf\n",
      "--\n",
      "http://www.mineral.k12.nv.us/files/january_16,_2018_minutes.pdf\n",
      "--\n",
      "http://www.mineral.k12.nv.us/files/2.6.18_minutes.pdf\n",
      "--\n"
     ]
    },
    {
     "data": {
      "text/plain": [
       "0     None\n",
       "1     None\n",
       "2     None\n",
       "3     None\n",
       "4     None\n",
       "5     None\n",
       "6     None\n",
       "7     None\n",
       "8     None\n",
       "9     None\n",
       "10    None\n",
       "11    None\n",
       "12    None\n",
       "13    None\n",
       "14    None\n",
       "15    None\n",
       "16    None\n",
       "17    None\n",
       "18    None\n",
       "19    None\n",
       "20    None\n",
       "21    None\n",
       "22    None\n",
       "23    None\n",
       "24    None\n",
       "25    None\n",
       "26    None\n",
       "27    None\n",
       "28    None\n",
       "29    None\n",
       "30    None\n",
       "31    None\n",
       "32    None\n",
       "33    None\n",
       "34    None\n",
       "35    None\n",
       "36    None\n",
       "37    None\n",
       "38    None\n",
       "39    None\n",
       "40    None\n",
       "41    None\n",
       "42    None\n",
       "43    None\n",
       "44    None\n",
       "45    None\n",
       "46    None\n",
       "47    None\n",
       "48    None\n",
       "49    None\n",
       "50    None\n",
       "51    None\n",
       "52    None\n",
       "53    None\n",
       "54    None\n",
       "55    None\n",
       "56    None\n",
       "57    None\n",
       "58    None\n",
       "dtype: object"
      ]
     },
     "execution_count": 100,
     "metadata": {},
     "output_type": "execute_result"
    }
   ],
   "source": [
    "df.apply(scrape_pdf, axis=1)"
   ]
  },
  {
   "cell_type": "code",
   "execution_count": null,
   "metadata": {},
   "outputs": [],
   "source": [
    "# i'm not sure how to use selenium to download a pdf to display in the dataframe"
   ]
  }
 ],
 "metadata": {
  "kernelspec": {
   "display_name": "Python 3",
   "language": "python",
   "name": "python3"
  },
  "language_info": {
   "codemirror_mode": {
    "name": "ipython",
    "version": 3
   },
   "file_extension": ".py",
   "mimetype": "text/x-python",
   "name": "python",
   "nbconvert_exporter": "python",
   "pygments_lexer": "ipython3",
   "version": "3.7.1"
  }
 },
 "nbformat": 4,
 "nbformat_minor": 2
}
