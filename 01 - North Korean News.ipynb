{
 "cells": [
  {
   "cell_type": "markdown",
   "metadata": {},
   "source": [
    "# North Korean News\n",
    "\n",
    "Scrape the North Korean news agency http://kcna.kp\n",
    "\n",
    "Save a CSV called `nk-news.csv`. This file should include:\n",
    "\n",
    "* The **article headline**\n",
    "* The value of **`onclick`** (they don't have normal links)\n",
    "* The **article ID** (for example, the article ID for `fn_showArticle(\"AR0125885\", \"\", \"NT00\", \"L\")` is `AR0125885`\n",
    "\n",
    "The last part is easiest using pandas. Be sure you don't save the index!\n",
    "\n",
    "* _**Tip:** If you're using requests+BeautifulSoup, you can always look at response.text to see if the page looks like what you think it looks like_\n",
    "* _**Tip:** Check your URL to make sure it is what you think it should be!_\n",
    "* _**Tip:** Does it look different if you scrape with BeautifulSoup compared to if you scrape it with Selenium?_\n",
    "* _**Tip:** For the last part, how do you pull out part of a string from a longer string?_\n",
    "* _**Tip:** `expand=False` is helpful if you want to assign a single new column when extracting_\n",
    "* _**Tip:** `(` and `)` mean something special in regular expressions, so you have to say \"no really seriously I mean `(`\" by using `\\(` instead_\n",
    "* _**Tip:** if your `.*` is taking up too much stuff, you can try `.*?` instead, which instead of \"take as much as possible\" it means \"take only as much as needed\"_"
   ]
  },
  {
   "cell_type": "markdown",
   "metadata": {},
   "source": [
    "### Imports"
   ]
  },
  {
   "cell_type": "code",
   "execution_count": 1,
   "metadata": {},
   "outputs": [],
   "source": [
    "import requests\n",
    "from bs4 import BeautifulSoup\n",
    "\n",
    "from selenium import webdriver\n",
    "driver = webdriver.Chrome()\n",
    "driver.get(\"http://kcna.kp\")"
   ]
  },
  {
   "cell_type": "markdown",
   "metadata": {},
   "source": [
    "### Get heds"
   ]
  },
  {
   "cell_type": "code",
   "execution_count": 145,
   "metadata": {},
   "outputs": [
    {
     "data": {
      "text/plain": [
       "['경애하는 최고령도자 김정은동지께서 라오스인민혁명당 중앙위원회 총비서인 라오스인민민주주의공화국 주석에게 축전을 보내시였다',\n",
       " '조선로동당 중앙위원회 제7기 제21차 정치국 확대회의 진행',\n",
       " '경애하는 최고령도자 김정은동지께서 수리아대통령에게 축전을 보내시였다']"
      ]
     },
     "execution_count": 145,
     "metadata": {},
     "output_type": "execute_result"
    }
   ],
   "source": [
    "first_left_list = []\n",
    "first_heds_left = driver.find_elements_by_class_name('harticle15_subtitle')\n",
    "for item in first_heds_left:\n",
    "    first_left_list.append(item.text.strip())\n",
    "    \n",
    "first_left_list"
   ]
  },
  {
   "cell_type": "code",
   "execution_count": 172,
   "metadata": {
    "scrolled": true
   },
   "outputs": [
    {
     "data": {
      "text/plain": [
       "['조선로동당 중앙위원회 제7기 제20차 정치국 확대회의 진행',\n",
       " '경애하는 최고령도자 김정은동지께서 《총련분회대표자대회-2020》(새 전성기 3차대회) 참가자들에게 축하문을 보내시였다',\n",
       " '경애하는 최고령도자 김정은동지께서 고 라명희동지의 령전에 화환을 보내시였다']"
      ]
     },
     "execution_count": 172,
     "metadata": {},
     "output_type": "execute_result"
    }
   ],
   "source": [
    "first_right_list = []\n",
    "\n",
    "first_heds_right = driver.find_elements_by_class_name('harticle3_subtitle')\n",
    "for item in first_heds_right:\n",
    "    first_right_list.append(item.text.strip())\n",
    "first_right_list"
   ]
  },
  {
   "cell_type": "code",
   "execution_count": 182,
   "metadata": {},
   "outputs": [
    {
     "data": {
      "text/plain": [
       "['선진적인 치료방법 도입',\n",
       " '청년대학생들 《코드쉐프》경연에서 6련승 쟁취',\n",
       " '순천세멘트련합기업소에서 년간 인민경제계획 초과완수',\n",
       " '력사유적유물자료들을 집대성한 귀중한 재보',\n",
       " '국가적인 보호를 받는 장애자들',\n",
       " '재일조선학교차별책동을 규탄하는 집회 일본에서 진행',\n",
       " '김덕훈동지 라오스수상에게 축전',\n",
       " '평양의 이름난 유적 부벽루',\n",
       " '사소한 빈틈도 없이',\n",
       " '위대한 백두령장의 준마행군길따라',\n",
       " '우리 인민이 기억하는 올림픽금메달수상자들(11)--세계를 놀래운 《검은말》-엄윤철',\n",
       " '방직공업의 어머니공장-김정숙평양방직공장',\n",
       " '지난 1년간 1 900여개의 단체에 8만 4 000여명이 백두산지구 혁명전적지를 답사',\n",
       " '주체109(2020)년 12월 3일 신문개관',\n",
       " '《로동신문》 전체 인민의 애국적열정의 분출이자 우리 조국의 진군속도이라고 강조',\n",
       " '농업과학기술인재들을 키워내는 김제원해주농업대학']"
      ]
     },
     "execution_count": 182,
     "metadata": {},
     "output_type": "execute_result"
    }
   ],
   "source": [
    "second_heds_left = driver.find_element_by_class_name('sub_wrap2')\n",
    "second_heds_left2 = second_heds_left.find_elements_by_class_name('sub_title2')\n",
    "second_left_list = []\n",
    "\n",
    "for item in second_heds_left2:\n",
    "    second_left_list.append(item.text.strip())\n",
    "    \n",
    "second_left_list"
   ]
  },
  {
   "cell_type": "code",
   "execution_count": 187,
   "metadata": {},
   "outputs": [
    {
     "data": {
      "text/plain": [
       "['묘향산의 력사유적들에 대한 단청과 룡문대굴개건보수 진행',\n",
       " '온실남새생산성과 계속 확대',\n",
       " '현대외과학의 기초로 되는 치료법들을 창안한 의학자',\n",
       " '방역사업의 강도를 높여',\n",
       " '바둑을 발전시키기 위한 노력',\n",
       " '우리 나라의 지질력사를 보여주는 모란봉규화목',\n",
       " '민족료리의 걸작품-신선로',\n",
       " '410년전에 편찬된 의학고전-《동의보감》',\n",
       " '인민경제 여러 부문,단위에서 11월전투목표 완수',\n",
       " '각급 비상방역부문에서 초특급비상방역조치 실시',\n",
       " '각급 경제지도기관들은 당의 경제정책집행을 위한 작전과 지휘를 책임적으로 해나가자',\n",
       " '《로동신문》 우리 인민의 불타는 충성심과 투쟁열은 80일전투의 힘있는 추동력이라고 강조',\n",
       " '주체109(2020)년 12월 2일 신문개관',\n",
       " '우주과학기술토론회-2020 진행']"
      ]
     },
     "execution_count": 187,
     "metadata": {},
     "output_type": "execute_result"
    }
   ],
   "source": [
    "second_heds_right = driver.find_elements_by_class_name('sub_wrap2')[1]\n",
    "second_heds_right2 = second_heds_right.find_elements_by_class_name('sub_title2')\n",
    "second_right_list = []\n",
    "\n",
    "for item in second_heds_right2:\n",
    "    second_right_list.append(item.text.strip())\n",
    "    \n",
    "second_right_list"
   ]
  },
  {
   "cell_type": "code",
   "execution_count": 205,
   "metadata": {},
   "outputs": [
    {
     "data": {
      "text/plain": [
       "['김덕훈동지 라오스수상에게 축전',\n",
       " '우리 나라 외무상 수리아 외무 및 이주민상에게 축전',\n",
       " '경애하는 최고령도자 김정은동지께 수리아대통령이 답전을 보내여왔다',\n",
       " '우리 나라 외무상 레바논 외무 및 이주민상에게 축전',\n",
       " '우리 나라 특명전권대사가 남아프리카대통령에게 신임장을 봉정',\n",
       " '우리 나라 외무상 팔레스티나국가 외무 및 이주민상에게 축전',\n",
       " '우리 나라 외무상 에티오피아 부수상 겸 외무상에게 축전',\n",
       " '우리 나라 외무상 앙골라 대외관계상에게 축전']"
      ]
     },
     "execution_count": 205,
     "metadata": {},
     "output_type": "execute_result"
    }
   ],
   "source": [
    "third_list = []\n",
    "third_heds = driver.find_elements_by_class_name('first5')[0]\n",
    "third_heds2 = third_heds.find_elements_by_tag_name('a')\n",
    "for item in third_heds2:\n",
    "    third_list.append(item.text.strip())\n",
    "    \n",
    "third_list"
   ]
  },
  {
   "cell_type": "code",
   "execution_count": 207,
   "metadata": {},
   "outputs": [
    {
     "data": {
      "text/plain": [
       "['아시아에서 1 700만명이상이 신형코로나비루스에 감염',\n",
       " '아프리카에서 악성전염병 만연',\n",
       " '세계적으로 감염자 6 479만 7 800여명,사망자 149만 8 100여명',\n",
       " '의연 심각한 문제로 되고있는 에이즈피해',\n",
       " '소말리아에서 열대성폭풍피해 확대',\n",
       " '여러 나라에서 방역조치 강구',\n",
       " '유럽에서의 대류행전염병전파상황',\n",
       " '아메리카지역에서 신형코로나비루스감염자와 사망자 증가',\n",
       " '인도네시아와 아르헨띠나에서 화산,지진',\n",
       " '캄보쟈와 수단에서 범죄반대투쟁']"
      ]
     },
     "execution_count": 207,
     "metadata": {},
     "output_type": "execute_result"
    }
   ],
   "source": [
    "fourth_list = []\n",
    "fourth_heds = driver.find_elements_by_class_name('sub_title1')\n",
    "for item in fourth_heds:\n",
    "     fourth_list.append(item.text.strip())\n",
    "fourth_list"
   ]
  },
  {
   "cell_type": "code",
   "execution_count": 210,
   "metadata": {},
   "outputs": [
    {
     "data": {
      "text/plain": [
       "['남조선당국에 경고한다--조선중앙통신사 보도',\n",
       " '조선인강제련행피해자,유가족협회 대변인담화',\n",
       " '조선로동당 중앙위원회 제7기 제6차전원회의 결정서--조선로동당 제8차대회를 소집할데 대하여',\n",
       " '조선일본군성노예 및 강제련행피해자문제대책위원회 대변인성명',\n",
       " '조선민주주의인민공화국 국무위원회 정령발표',\n",
       " '조선로동당 중앙위원회 제7기 제16차 정치국회의 공보',\n",
       " '',\n",
       " '조선민주주의인민공화국 외무성 대변인대답']"
      ]
     },
     "execution_count": 210,
     "metadata": {},
     "output_type": "execute_result"
    }
   ],
   "source": [
    "fifth_list = []\n",
    "fifth_heds = driver.find_elements_by_class_name('harticle14')[0]\n",
    "fifth_heds2 = fifth_heds.find_elements_by_tag_name('a')\n",
    "for item in fifth_heds2:\n",
    "     #full_heds_list.append(item.text.strip())\n",
    "    fifth_list.append(item.text.strip())\n",
    "fifth_list"
   ]
  },
  {
   "cell_type": "code",
   "execution_count": 211,
   "metadata": {},
   "outputs": [],
   "source": [
    "all_heds = first_left_list + first_right_list + second_left_list + second_right_list + third_list + fourth_list + fifth_list\n"
   ]
  },
  {
   "cell_type": "code",
   "execution_count": 215,
   "metadata": {},
   "outputs": [
    {
     "data": {
      "text/plain": [
       "62"
      ]
     },
     "execution_count": 215,
     "metadata": {},
     "output_type": "execute_result"
    }
   ],
   "source": [
    "len(all_heds)"
   ]
  },
  {
   "cell_type": "markdown",
   "metadata": {},
   "source": [
    "### Get on-clicks"
   ]
  },
  {
   "cell_type": "code",
   "execution_count": null,
   "metadata": {},
   "outputs": [],
   "source": [
    "hleft_article\n",
    "hright_sidebar sidebar_spacing // or id=sidebar_content\n",
    "\n",
    "find_element_by_tag_name('a').get_attribute('href')"
   ]
  },
  {
   "cell_type": "code",
   "execution_count": null,
   "metadata": {},
   "outputs": [],
   "source": [
    "# first_heds_left\n",
    "# first_heds_right\n",
    "# second_heds_left2\n",
    "# second_heds_right2\n",
    "# third_heds2\n",
    "# fourth_heds\n",
    "# fifth_heds2"
   ]
  },
  {
   "cell_type": "code",
   "execution_count": 239,
   "metadata": {},
   "outputs": [
    {
     "data": {
      "text/plain": [
       "['fn_showArticle(\"AR0140322\", \"\", \"NT00\", \"L\")',\n",
       " 'fn_showArticle(\"AR0140253\", \"\", \"NT00\", \"L\")',\n",
       " 'fn_showArticle(\"AR0139989\", \"\", \"NT00\", \"L\")']"
      ]
     },
     "execution_count": 239,
     "metadata": {},
     "output_type": "execute_result"
    }
   ],
   "source": [
    "first_left_on_clicks = []\n",
    "for item in first_heds_left:\n",
    "    first_left_on_clicks.append(item.find_element_by_tag_name('a').get_attribute('onclick'))\n",
    "first_left_on_clicks"
   ]
  },
  {
   "cell_type": "code",
   "execution_count": 221,
   "metadata": {},
   "outputs": [],
   "source": [
    "first_right_on_clicks = []\n",
    "for item in first_heds_right:\n",
    "    first_right_on_clicks.append(item.find_element_by_tag_name('a').get_attribute('onclick'))"
   ]
  },
  {
   "cell_type": "code",
   "execution_count": 220,
   "metadata": {},
   "outputs": [],
   "source": [
    "second_left_on_clicks = []\n",
    "for item in second_heds_left2:\n",
    "    second_left_on_clicks.append(item.find_element_by_tag_name('a').get_attribute('onclick'))"
   ]
  },
  {
   "cell_type": "code",
   "execution_count": 219,
   "metadata": {},
   "outputs": [],
   "source": [
    "second_right_on_clicks = []\n",
    "for item in second_heds_right2:\n",
    "    second_right_on_clicks.append(item.find_element_by_tag_name('a').get_attribute('onclick'))"
   ]
  },
  {
   "cell_type": "code",
   "execution_count": 235,
   "metadata": {},
   "outputs": [],
   "source": [
    "third_on_clicks = []\n",
    "for item in third_heds2:\n",
    "    third_on_clicks.append(item.get_attribute('onclick'))"
   ]
  },
  {
   "cell_type": "code",
   "execution_count": 234,
   "metadata": {},
   "outputs": [],
   "source": [
    "fourth_on_clicks = []\n",
    "for item in fourth_heds:\n",
    "    fourth_on_clicks.append(item.find_element_by_tag_name('a').get_attribute('onclick'))"
   ]
  },
  {
   "cell_type": "code",
   "execution_count": 237,
   "metadata": {},
   "outputs": [],
   "source": [
    "fifth_on_clicks = []\n",
    "for item in fifth_heds2:\n",
    "    fifth_on_clicks.append(item.get_attribute('onclick'))"
   ]
  },
  {
   "cell_type": "markdown",
   "metadata": {},
   "source": [
    "### Get article IDs"
   ]
  },
  {
   "cell_type": "code",
   "execution_count": 76,
   "metadata": {},
   "outputs": [],
   "source": [
    "import re"
   ]
  },
  {
   "cell_type": "code",
   "execution_count": null,
   "metadata": {},
   "outputs": [],
   "source": [
    "article ID"
   ]
  },
  {
   "cell_type": "code",
   "execution_count": null,
   "metadata": {},
   "outputs": [],
   "source": [
    "first_left_on_clicks\n",
    "first_right_on_clicks\n",
    "second_left_on_clicks\n",
    "second_right_on_clicks\n",
    "third_on_clicks\n",
    "fourth_on_clicks\n",
    "fifth_on_clicks"
   ]
  },
  {
   "cell_type": "code",
   "execution_count": 249,
   "metadata": {},
   "outputs": [
    {
     "data": {
      "text/plain": [
       "['AR014032', 'AR014025', 'AR013998']"
      ]
     },
     "execution_count": 249,
     "metadata": {},
     "output_type": "execute_result"
    }
   ],
   "source": [
    "first_left_id_list = []\n",
    "first_id = r\"\\(\\\"(\\w{2}\\d{6})\"\n",
    "for item in first_left_on_clicks:\n",
    "    first_left_id_list.append(re.findall(first_id,item))\n",
    "    \n",
    "# each one is its own list, so I'm taking it out and putting each into one master list\n",
    "actual_first_left_id_list = []\n",
    "for item in first_left_id_list:\n",
    "    for thing in item:\n",
    "        actual_first_left_id_list.append(thing)\n",
    "actual_first_left_id_list"
   ]
  },
  {
   "cell_type": "code",
   "execution_count": 251,
   "metadata": {},
   "outputs": [],
   "source": [
    "first_right_id_list = []\n",
    "first_id = r\"\\(\\\"(\\w{2}\\d{6})\"\n",
    "for item in first_right_on_clicks:\n",
    "    first_right_id_list.append(re.findall(first_id,item))\n",
    "    \n",
    "# each one is its own list, so I'm taking it out and putting each into one master list\n",
    "actual_first_right_id_list = []\n",
    "for item in first_right_id_list:\n",
    "    for thing in item:\n",
    "        actual_first_right_id_list.append(thing)"
   ]
  },
  {
   "cell_type": "code",
   "execution_count": 254,
   "metadata": {},
   "outputs": [],
   "source": [
    "second_left_id_list = []\n",
    "first_id = r\"\\(\\\"(\\w{2}\\d{6})\"\n",
    "for item in second_left_on_clicks:\n",
    "    second_left_id_list.append(re.findall(first_id,item))\n",
    "    \n",
    "# each one is its own list, so I'm taking it out and putting each into one master list\n",
    "actual_second_left_id_list = []\n",
    "for item in second_left_id_list:\n",
    "    for thing in item:\n",
    "        actual_second_left_id_list.append(thing)"
   ]
  },
  {
   "cell_type": "code",
   "execution_count": 257,
   "metadata": {},
   "outputs": [],
   "source": [
    "second_right_id_list = []\n",
    "first_id = r\"\\(\\\"(\\w{2}\\d{6})\"\n",
    "for item in second_right_on_clicks:\n",
    "    second_right_id_list.append(re.findall(first_id,item))\n",
    "    \n",
    "# each one is its own list, so I'm taking it out and putting each into one master list\n",
    "actual_second_right_id_list = []\n",
    "for item in second_right_id_list:\n",
    "    for thing in item:\n",
    "        actual_second_right_id_list.append(thing)"
   ]
  },
  {
   "cell_type": "code",
   "execution_count": 260,
   "metadata": {},
   "outputs": [],
   "source": [
    "third_id_list = []\n",
    "first_id = r\"\\(\\\"(\\w{2}\\d{6})\"\n",
    "for item in third_on_clicks:\n",
    "    third_id_list.append(re.findall(first_id,item))\n",
    "    \n",
    "# each one is its own list, so I'm taking it out and putting each into one master list\n",
    "actual_third_id_list = []\n",
    "for item in third_id_list:\n",
    "    for thing in item:\n",
    "        actual_third_id_list.append(thing)"
   ]
  },
  {
   "cell_type": "code",
   "execution_count": 262,
   "metadata": {},
   "outputs": [],
   "source": [
    "fourth_id_list = []\n",
    "first_id = r\"\\(\\\"(\\w{2}\\d{6})\"\n",
    "for item in fourth_on_clicks:\n",
    "    fourth_id_list.append(re.findall(first_id,item))\n",
    "    \n",
    "# each one is its own list, so I'm taking it out and putting each into one master list\n",
    "actual_fourth_id_list = []\n",
    "for item in fourth_id_list:\n",
    "    for thing in item:\n",
    "        actual_fourth_id_list.append(thing)"
   ]
  },
  {
   "cell_type": "code",
   "execution_count": 263,
   "metadata": {},
   "outputs": [
    {
     "data": {
      "text/plain": [
       "['AR013877',\n",
       " 'AR013801',\n",
       " 'AR013794',\n",
       " 'AR013782',\n",
       " 'AR013779',\n",
       " 'AR013779',\n",
       " 'AR013779',\n",
       " 'AR013727']"
      ]
     },
     "execution_count": 263,
     "metadata": {},
     "output_type": "execute_result"
    }
   ],
   "source": [
    "fifth_id_list = []\n",
    "first_id = r\"\\(\\\"(\\w{2}\\d{6})\"\n",
    "for item in fifth_on_clicks:\n",
    "    fifth_id_list.append(re.findall(first_id,item))\n",
    "    \n",
    "# each one is its own list, so I'm taking it out and putting each into one master list\n",
    "actual_fifth_id_list = []\n",
    "for item in fifth_id_list:\n",
    "    for thing in item:\n",
    "        actual_fifth_id_list.append(thing)"
   ]
  },
  {
   "cell_type": "code",
   "execution_count": null,
   "metadata": {},
   "outputs": [],
   "source": []
  },
  {
   "cell_type": "markdown",
   "metadata": {},
   "source": [
    "### Putting it all together"
   ]
  },
  {
   "cell_type": "code",
   "execution_count": 268,
   "metadata": {},
   "outputs": [],
   "source": [
    "# first_left_on_clicks\n",
    "# first_right_on_clicks\n",
    "# second_left_on_clicks\n",
    "# second_right_on_clicks\n",
    "# third_on_clicks\n",
    "# fourth_on_clicks\n",
    "# fifth_on_clicks"
   ]
  },
  {
   "cell_type": "code",
   "execution_count": 269,
   "metadata": {},
   "outputs": [],
   "source": [
    "# actual_first_left_id_list\n",
    "# actual_first_right_id_list\n",
    "# actual_second_left_id_list\n",
    "# actual_second_right_id_list\n",
    "# actual_third_id_list\n",
    "# actual_fourth_id_list\n",
    "# actual_fifth_id_list"
   ]
  },
  {
   "cell_type": "code",
   "execution_count": 270,
   "metadata": {},
   "outputs": [],
   "source": [
    "# first_left_list\n",
    "# first_right_list\n",
    "# second_left_list\n",
    "# second_right_list\n",
    "# third_list\n",
    "# fourth_list\n",
    "# fifth_list"
   ]
  },
  {
   "cell_type": "code",
   "execution_count": 281,
   "metadata": {},
   "outputs": [
    {
     "name": "stderr",
     "output_type": "stream",
     "text": [
      "/Users/ALukpat/.pyenv/versions/3.7.1/lib/python3.7/site-packages/pandas/compat/__init__.py:120: UserWarning: Could not import the lzma module. Your installed Python is incomplete. Attempting to use lzma compression will result in a RuntimeError.\n",
      "  warnings.warn(msg)\n"
     ]
    }
   ],
   "source": [
    "import pandas as pd"
   ]
  },
  {
   "cell_type": "code",
   "execution_count": 310,
   "metadata": {},
   "outputs": [],
   "source": [
    "# all_heds\n",
    "on_click_list = first_left_on_clicks + first_right_on_clicks + second_left_on_clicks + second_right_on_clicks + third_on_clicks + fourth_on_clicks + fifth_on_clicks"
   ]
  },
  {
   "cell_type": "code",
   "execution_count": 311,
   "metadata": {},
   "outputs": [],
   "source": [
    "all_id_list = actual_first_left_id_list + actual_first_right_id_list + actual_second_left_id_list + actual_second_right_id_list + actual_third_id_list + actual_fourth_id_list + actual_fifth_id_list"
   ]
  },
  {
   "cell_type": "code",
   "execution_count": 312,
   "metadata": {},
   "outputs": [],
   "source": [
    "df = pd.DataFrame(\n",
    "    {'hed': all_heds,\n",
    "     'on_click': on_click_list,\n",
    "     'article_id': all_id_list\n",
    "    })"
   ]
  },
  {
   "cell_type": "code",
   "execution_count": 313,
   "metadata": {
    "scrolled": true
   },
   "outputs": [
    {
     "data": {
      "text/html": [
       "<div>\n",
       "<style scoped>\n",
       "    .dataframe tbody tr th:only-of-type {\n",
       "        vertical-align: middle;\n",
       "    }\n",
       "\n",
       "    .dataframe tbody tr th {\n",
       "        vertical-align: top;\n",
       "    }\n",
       "\n",
       "    .dataframe thead th {\n",
       "        text-align: right;\n",
       "    }\n",
       "</style>\n",
       "<table border=\"1\" class=\"dataframe\">\n",
       "  <thead>\n",
       "    <tr style=\"text-align: right;\">\n",
       "      <th></th>\n",
       "      <th>hed</th>\n",
       "      <th>on_click</th>\n",
       "      <th>article_id</th>\n",
       "    </tr>\n",
       "  </thead>\n",
       "  <tbody>\n",
       "    <tr>\n",
       "      <th>0</th>\n",
       "      <td>경애하는 최고령도자 김정은동지께서 라오스인민혁명당 중앙위원회 총비서인 라오스인민민주...</td>\n",
       "      <td>fn_showArticle(\"AR0140322\", \"\", \"NT00\", \"L\")</td>\n",
       "      <td>AR014032</td>\n",
       "    </tr>\n",
       "    <tr>\n",
       "      <th>1</th>\n",
       "      <td>조선로동당 중앙위원회 제7기 제21차 정치국 확대회의 진행</td>\n",
       "      <td>fn_showArticle(\"AR0140253\", \"\", \"NT00\", \"L\")</td>\n",
       "      <td>AR014025</td>\n",
       "    </tr>\n",
       "    <tr>\n",
       "      <th>2</th>\n",
       "      <td>경애하는 최고령도자 김정은동지께서 수리아대통령에게 축전을 보내시였다</td>\n",
       "      <td>fn_showArticle(\"AR0139989\", \"\", \"NT00\", \"L\")</td>\n",
       "      <td>AR013998</td>\n",
       "    </tr>\n",
       "    <tr>\n",
       "      <th>3</th>\n",
       "      <td>조선로동당 중앙위원회 제7기 제20차 정치국 확대회의 진행</td>\n",
       "      <td>fn_showArticle(\"AR0139950\", \"\", \"NT00\", \"L\")</td>\n",
       "      <td>AR013995</td>\n",
       "    </tr>\n",
       "    <tr>\n",
       "      <th>4</th>\n",
       "      <td>경애하는 최고령도자 김정은동지께서 《총련분회대표자대회-2020》(새 전성기 3차대회...</td>\n",
       "      <td>fn_showArticle(\"AR0139645\", \"\", \"NT00\", \"L\")</td>\n",
       "      <td>AR013964</td>\n",
       "    </tr>\n",
       "    <tr>\n",
       "      <th>...</th>\n",
       "      <td>...</td>\n",
       "      <td>...</td>\n",
       "      <td>...</td>\n",
       "    </tr>\n",
       "    <tr>\n",
       "      <th>57</th>\n",
       "      <td>조선일본군성노예 및 강제련행피해자문제대책위원회 대변인성명</td>\n",
       "      <td>fn_showArticle(\"AR0137825\", \"\", \"NT17\", \"L\")</td>\n",
       "      <td>AR013782</td>\n",
       "    </tr>\n",
       "    <tr>\n",
       "      <th>58</th>\n",
       "      <td>조선민주주의인민공화국 국무위원회 정령발표</td>\n",
       "      <td>fn_showArticle(\"AR0137794\", \"\", \"NT17\", \"L\")</td>\n",
       "      <td>AR013779</td>\n",
       "    </tr>\n",
       "    <tr>\n",
       "      <th>59</th>\n",
       "      <td>조선로동당 중앙위원회 제7기 제16차 정치국회의 공보</td>\n",
       "      <td>fn_showArticle(\"AR0137795\", \"\", \"NT17\", \"L\")</td>\n",
       "      <td>AR013779</td>\n",
       "    </tr>\n",
       "    <tr>\n",
       "      <th>60</th>\n",
       "      <td></td>\n",
       "      <td>fn_showArticle(\"AR0137795\", \"\", \"NT17\", \"I\")</td>\n",
       "      <td>AR013779</td>\n",
       "    </tr>\n",
       "    <tr>\n",
       "      <th>61</th>\n",
       "      <td>조선민주주의인민공화국 외무성 대변인대답</td>\n",
       "      <td>fn_showArticle(\"AR0137273\", \"\", \"NT17\", \"L\")</td>\n",
       "      <td>AR013727</td>\n",
       "    </tr>\n",
       "  </tbody>\n",
       "</table>\n",
       "<p>62 rows × 3 columns</p>\n",
       "</div>"
      ],
      "text/plain": [
       "                                                  hed  \\\n",
       "0   경애하는 최고령도자 김정은동지께서 라오스인민혁명당 중앙위원회 총비서인 라오스인민민주...   \n",
       "1                    조선로동당 중앙위원회 제7기 제21차 정치국 확대회의 진행   \n",
       "2               경애하는 최고령도자 김정은동지께서 수리아대통령에게 축전을 보내시였다   \n",
       "3                    조선로동당 중앙위원회 제7기 제20차 정치국 확대회의 진행   \n",
       "4   경애하는 최고령도자 김정은동지께서 《총련분회대표자대회-2020》(새 전성기 3차대회...   \n",
       "..                                                ...   \n",
       "57                    조선일본군성노예 및 강제련행피해자문제대책위원회 대변인성명   \n",
       "58                             조선민주주의인민공화국 국무위원회 정령발표   \n",
       "59                      조선로동당 중앙위원회 제7기 제16차 정치국회의 공보   \n",
       "60                                                      \n",
       "61                              조선민주주의인민공화국 외무성 대변인대답   \n",
       "\n",
       "                                        on_click article_id  \n",
       "0   fn_showArticle(\"AR0140322\", \"\", \"NT00\", \"L\")   AR014032  \n",
       "1   fn_showArticle(\"AR0140253\", \"\", \"NT00\", \"L\")   AR014025  \n",
       "2   fn_showArticle(\"AR0139989\", \"\", \"NT00\", \"L\")   AR013998  \n",
       "3   fn_showArticle(\"AR0139950\", \"\", \"NT00\", \"L\")   AR013995  \n",
       "4   fn_showArticle(\"AR0139645\", \"\", \"NT00\", \"L\")   AR013964  \n",
       "..                                           ...        ...  \n",
       "57  fn_showArticle(\"AR0137825\", \"\", \"NT17\", \"L\")   AR013782  \n",
       "58  fn_showArticle(\"AR0137794\", \"\", \"NT17\", \"L\")   AR013779  \n",
       "59  fn_showArticle(\"AR0137795\", \"\", \"NT17\", \"L\")   AR013779  \n",
       "60  fn_showArticle(\"AR0137795\", \"\", \"NT17\", \"I\")   AR013779  \n",
       "61  fn_showArticle(\"AR0137273\", \"\", \"NT17\", \"L\")   AR013727  \n",
       "\n",
       "[62 rows x 3 columns]"
      ]
     },
     "execution_count": 313,
     "metadata": {},
     "output_type": "execute_result"
    }
   ],
   "source": [
    "df"
   ]
  },
  {
   "cell_type": "code",
   "execution_count": 314,
   "metadata": {},
   "outputs": [],
   "source": [
    "df.to_csv('nk-news.csv', index=False)"
   ]
  },
  {
   "cell_type": "code",
   "execution_count": null,
   "metadata": {},
   "outputs": [],
   "source": []
  }
 ],
 "metadata": {
  "kernelspec": {
   "display_name": "Python 3",
   "language": "python",
   "name": "python3"
  },
  "language_info": {
   "codemirror_mode": {
    "name": "ipython",
    "version": 3
   },
   "file_extension": ".py",
   "mimetype": "text/x-python",
   "name": "python",
   "nbconvert_exporter": "python",
   "pygments_lexer": "ipython3",
   "version": "3.7.1"
  }
 },
 "nbformat": 4,
 "nbformat_minor": 2
}
